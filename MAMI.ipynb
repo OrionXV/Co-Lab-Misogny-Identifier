{
  "nbformat": 4,
  "nbformat_minor": 0,
  "metadata": {
    "colab": {
      "name": "MAMI.ipynb",
      "provenance": [],
      "collapsed_sections": [],
      "include_colab_link": true
    },
    "kernelspec": {
      "name": "python3",
      "display_name": "Python 3"
    },
    "language_info": {
      "name": "python"
    }
  },
  "cells": [
    {
      "cell_type": "markdown",
      "metadata": {
        "id": "view-in-github",
        "colab_type": "text"
      },
      "source": [
        "<a href=\"https://colab.research.google.com/github/OrionXV/Co-Lab-Misogny-Identifier/blob/main/MAMI.ipynb\" target=\"_parent\"><img src=\"https://colab.research.google.com/assets/colab-badge.svg\" alt=\"Open In Colab\"/></a>"
      ]
    },
    {
      "cell_type": "markdown",
      "metadata": {
        "id": "ITGvApJXzSzr"
      },
      "source": [
        "# Multimedia Automatic Misogyny Identification (MAMI)\n",
        "By Syed Arsalaan Nadim, Rijurekh Haldar, Rashmi and Ravi"
      ]
    },
    {
      "cell_type": "code",
      "metadata": {
        "colab": {
          "base_uri": "https://localhost:8080/"
        },
        "id": "fLpnl4Q00enq",
        "outputId": "6fe1bb5c-433e-464d-9722-2ff361d02896"
      },
      "source": [
        "!pip install catboost"
      ],
      "execution_count": null,
      "outputs": [
        {
          "output_type": "stream",
          "name": "stdout",
          "text": [
            "Requirement already satisfied: catboost in /usr/local/lib/python3.7/dist-packages (1.0.3)\n",
            "Requirement already satisfied: matplotlib in /usr/local/lib/python3.7/dist-packages (from catboost) (3.2.2)\n",
            "Requirement already satisfied: scipy in /usr/local/lib/python3.7/dist-packages (from catboost) (1.4.1)\n",
            "Requirement already satisfied: pandas>=0.24.0 in /usr/local/lib/python3.7/dist-packages (from catboost) (1.1.5)\n",
            "Requirement already satisfied: six in /usr/local/lib/python3.7/dist-packages (from catboost) (1.15.0)\n",
            "Requirement already satisfied: plotly in /usr/local/lib/python3.7/dist-packages (from catboost) (4.4.1)\n",
            "Requirement already satisfied: numpy>=1.16.0 in /usr/local/lib/python3.7/dist-packages (from catboost) (1.19.5)\n",
            "Requirement already satisfied: graphviz in /usr/local/lib/python3.7/dist-packages (from catboost) (0.10.1)\n",
            "Requirement already satisfied: python-dateutil>=2.7.3 in /usr/local/lib/python3.7/dist-packages (from pandas>=0.24.0->catboost) (2.8.2)\n",
            "Requirement already satisfied: pytz>=2017.2 in /usr/local/lib/python3.7/dist-packages (from pandas>=0.24.0->catboost) (2018.9)\n",
            "Requirement already satisfied: pyparsing!=2.0.4,!=2.1.2,!=2.1.6,>=2.0.1 in /usr/local/lib/python3.7/dist-packages (from matplotlib->catboost) (2.4.7)\n",
            "Requirement already satisfied: cycler>=0.10 in /usr/local/lib/python3.7/dist-packages (from matplotlib->catboost) (0.10.0)\n",
            "Requirement already satisfied: kiwisolver>=1.0.1 in /usr/local/lib/python3.7/dist-packages (from matplotlib->catboost) (1.3.2)\n",
            "Requirement already satisfied: retrying>=1.3.3 in /usr/local/lib/python3.7/dist-packages (from plotly->catboost) (1.3.3)\n"
          ]
        }
      ]
    },
    {
      "cell_type": "code",
      "metadata": {
        "id": "iH7LpLGsz0gd"
      },
      "source": [
        "import numpy as np\n",
        "import pandas as pd\n",
        "import pandas as pd\n",
        "import numpy as np\n",
        "import seaborn as sns  \n",
        "sns.set()\n",
        "from matplotlib import pyplot as plt\n",
        "from sklearn import preprocessing\n",
        "from sklearn.model_selection import train_test_split, StratifiedShuffleSplit, StratifiedKFold\n",
        "from sklearn.metrics import accuracy_score\n",
        "from sklearn.preprocessing import LabelEncoder, StandardScaler\n",
        "from sklearn.ensemble import RandomForestClassifier\n",
        "from sklearn.model_selection import GridSearchCV, cross_val_score\n",
        "from catboost import CatBoostClassifier\n",
        "import warnings\n",
        "warnings.filterwarnings('ignore')\n",
        "%config InLineBackend.figure_format = 'retina'"
      ],
      "execution_count": null,
      "outputs": []
    },
    {
      "cell_type": "code",
      "metadata": {
        "colab": {
          "base_uri": "https://localhost:8080/"
        },
        "id": "lrCwUdePGauy",
        "outputId": "7344884a-b909-442f-f759-f3af210cb22c"
      },
      "source": [
        "import re\n",
        "import string\n",
        "import nltk\n",
        "\n",
        "from collections import Counter\n",
        "from nltk.tokenize import word_tokenize\n",
        "from nltk.corpus import stopwords\n",
        "\n",
        "nltk.download('punkt')\n",
        "nltk.download('stopwords')"
      ],
      "execution_count": null,
      "outputs": [
        {
          "output_type": "stream",
          "name": "stdout",
          "text": [
            "[nltk_data] Downloading package punkt to /root/nltk_data...\n",
            "[nltk_data]   Package punkt is already up-to-date!\n",
            "[nltk_data] Downloading package stopwords to /root/nltk_data...\n",
            "[nltk_data]   Package stopwords is already up-to-date!\n"
          ]
        },
        {
          "output_type": "execute_result",
          "data": {
            "text/plain": [
              "True"
            ]
          },
          "metadata": {},
          "execution_count": 16
        }
      ]
    },
    {
      "cell_type": "code",
      "metadata": {
        "id": "19wkoYAX12cG"
      },
      "source": [
        "path = \"https://raw.githubusercontent.com/OrionXV/Co-Lab-Misogny-Identifier/main/Copy%20of%20training.xlsx\"\n",
        "data = pd.read_excel(path)"
      ],
      "execution_count": null,
      "outputs": []
    },
    {
      "cell_type": "code",
      "metadata": {
        "id": "XIEffQyI3eBT",
        "colab": {
          "base_uri": "https://localhost:8080/",
          "height": 206
        },
        "outputId": "a392cb3b-ef26-4193-a6b9-404a22c9ed34"
      },
      "source": [
        "data.head()"
      ],
      "execution_count": null,
      "outputs": [
        {
          "output_type": "execute_result",
          "data": {
            "text/html": [
              "<div>\n",
              "<style scoped>\n",
              "    .dataframe tbody tr th:only-of-type {\n",
              "        vertical-align: middle;\n",
              "    }\n",
              "\n",
              "    .dataframe tbody tr th {\n",
              "        vertical-align: top;\n",
              "    }\n",
              "\n",
              "    .dataframe thead th {\n",
              "        text-align: right;\n",
              "    }\n",
              "</style>\n",
              "<table border=\"1\" class=\"dataframe\">\n",
              "  <thead>\n",
              "    <tr style=\"text-align: right;\">\n",
              "      <th></th>\n",
              "      <th>file_name</th>\n",
              "      <th>misogynous</th>\n",
              "      <th>shaming</th>\n",
              "      <th>stereotype</th>\n",
              "      <th>objectification</th>\n",
              "      <th>violence</th>\n",
              "      <th>Text Transcription</th>\n",
              "    </tr>\n",
              "  </thead>\n",
              "  <tbody>\n",
              "    <tr>\n",
              "      <th>0</th>\n",
              "      <td>1.jpg</td>\n",
              "      <td>0</td>\n",
              "      <td>0</td>\n",
              "      <td>0</td>\n",
              "      <td>0</td>\n",
              "      <td>0</td>\n",
              "      <td>Milk Milk.zip</td>\n",
              "    </tr>\n",
              "    <tr>\n",
              "      <th>1</th>\n",
              "      <td>10.jpg</td>\n",
              "      <td>1</td>\n",
              "      <td>0</td>\n",
              "      <td>0</td>\n",
              "      <td>0</td>\n",
              "      <td>1</td>\n",
              "      <td>ROSES ARE RED, VIOLETS ARE BLUE IF YOU DON'T S...</td>\n",
              "    </tr>\n",
              "    <tr>\n",
              "      <th>2</th>\n",
              "      <td>1000.jpg</td>\n",
              "      <td>0</td>\n",
              "      <td>0</td>\n",
              "      <td>0</td>\n",
              "      <td>0</td>\n",
              "      <td>0</td>\n",
              "      <td>BREAKING NEWS: Russia releases photo of DONALD...</td>\n",
              "    </tr>\n",
              "    <tr>\n",
              "      <th>3</th>\n",
              "      <td>10000.jpg</td>\n",
              "      <td>0</td>\n",
              "      <td>0</td>\n",
              "      <td>0</td>\n",
              "      <td>0</td>\n",
              "      <td>0</td>\n",
              "      <td>MAN SEEKING WOMAN Ignad 18 O</td>\n",
              "    </tr>\n",
              "    <tr>\n",
              "      <th>4</th>\n",
              "      <td>10006.jpg</td>\n",
              "      <td>0</td>\n",
              "      <td>0</td>\n",
              "      <td>0</td>\n",
              "      <td>0</td>\n",
              "      <td>0</td>\n",
              "      <td>Me explaining the deep lore of. J.R.R. Tolkein...</td>\n",
              "    </tr>\n",
              "  </tbody>\n",
              "</table>\n",
              "</div>"
            ],
            "text/plain": [
              "   file_name  ...                                 Text Transcription\n",
              "0      1.jpg  ...                                      Milk Milk.zip\n",
              "1     10.jpg  ...  ROSES ARE RED, VIOLETS ARE BLUE IF YOU DON'T S...\n",
              "2   1000.jpg  ...  BREAKING NEWS: Russia releases photo of DONALD...\n",
              "3  10000.jpg  ...                       MAN SEEKING WOMAN Ignad 18 O\n",
              "4  10006.jpg  ...  Me explaining the deep lore of. J.R.R. Tolkein...\n",
              "\n",
              "[5 rows x 7 columns]"
            ]
          },
          "metadata": {},
          "execution_count": 18
        }
      ]
    },
    {
      "cell_type": "code",
      "metadata": {
        "id": "-x77KMwm3umE",
        "colab": {
          "base_uri": "https://localhost:8080/"
        },
        "outputId": "f07c17c4-093e-40f8-ae0e-f49b78d731b3"
      },
      "source": [
        "data.shape"
      ],
      "execution_count": null,
      "outputs": [
        {
          "output_type": "execute_result",
          "data": {
            "text/plain": [
              "(10000, 7)"
            ]
          },
          "metadata": {},
          "execution_count": 19
        }
      ]
    },
    {
      "cell_type": "code",
      "metadata": {
        "id": "bV5yz0Mk36I2",
        "colab": {
          "base_uri": "https://localhost:8080/"
        },
        "outputId": "310e0642-87df-4c4f-a6fc-06f22bb3a141"
      },
      "source": [
        "data.isnull().sum()"
      ],
      "execution_count": null,
      "outputs": [
        {
          "output_type": "execute_result",
          "data": {
            "text/plain": [
              "file_name             0\n",
              "misogynous            0\n",
              "shaming               0\n",
              "stereotype            0\n",
              "objectification       0\n",
              "violence              0\n",
              "Text Transcription    0\n",
              "dtype: int64"
            ]
          },
          "metadata": {},
          "execution_count": 20
        }
      ]
    },
    {
      "cell_type": "code",
      "metadata": {
        "id": "K0wVfgkH9sCa",
        "colab": {
          "base_uri": "https://localhost:8080/"
        },
        "outputId": "218cba4f-9c24-48eb-8259-059859cc0e07"
      },
      "source": [
        "data.info()"
      ],
      "execution_count": null,
      "outputs": [
        {
          "output_type": "stream",
          "name": "stdout",
          "text": [
            "<class 'pandas.core.frame.DataFrame'>\n",
            "RangeIndex: 10000 entries, 0 to 9999\n",
            "Data columns (total 7 columns):\n",
            " #   Column              Non-Null Count  Dtype \n",
            "---  ------              --------------  ----- \n",
            " 0   file_name           10000 non-null  object\n",
            " 1   misogynous          10000 non-null  int64 \n",
            " 2   shaming             10000 non-null  int64 \n",
            " 3   stereotype          10000 non-null  int64 \n",
            " 4   objectification     10000 non-null  int64 \n",
            " 5   violence            10000 non-null  int64 \n",
            " 6   Text Transcription  10000 non-null  object\n",
            "dtypes: int64(5), object(2)\n",
            "memory usage: 547.0+ KB\n"
          ]
        }
      ]
    },
    {
      "cell_type": "code",
      "metadata": {
        "id": "Zy00hbNF9vYP",
        "colab": {
          "base_uri": "https://localhost:8080/"
        },
        "outputId": "a065a66e-379d-4494-b2d8-90a196c40e96"
      },
      "source": [
        "data.loc[:, 'misogynous':'violence'].sum()"
      ],
      "execution_count": null,
      "outputs": [
        {
          "output_type": "execute_result",
          "data": {
            "text/plain": [
              "misogynous         5000\n",
              "shaming            1274\n",
              "stereotype         2810\n",
              "objectification    2202\n",
              "violence            953\n",
              "dtype: int64"
            ]
          },
          "metadata": {},
          "execution_count": 22
        }
      ]
    },
    {
      "cell_type": "code",
      "metadata": {
        "id": "uABdWKwS-kOc",
        "colab": {
          "base_uri": "https://localhost:8080/",
          "height": 357
        },
        "outputId": "8c9d09eb-49c9-4994-dc96-2e5068e06261"
      },
      "source": [
        "comat = data[data['misogynous'] == 1].corr()\n",
        "sns.heatmap(comat, annot=True, fmt=\".1f\", linewidths=0.5)"
      ],
      "execution_count": null,
      "outputs": [
        {
          "output_type": "execute_result",
          "data": {
            "text/plain": [
              "<matplotlib.axes._subplots.AxesSubplot at 0x7f89b0e37fd0>"
            ]
          },
          "metadata": {},
          "execution_count": 23
        },
        {
          "output_type": "display_data",
          "data": {
            "image/png": "[encoded data removed]",
            "text/plain": [
              "<Figure size 432x288 with 2 Axes>"
            ]
          },
          "metadata": {}
        }
      ]
    },
    {
      "cell_type": "code",
      "metadata": {
        "id": "954JIeMqA_Oc",
        "colab": {
          "base_uri": "https://localhost:8080/",
          "height": 285
        },
        "outputId": "12c7c6ae-46e8-417e-c734-2f87e349ce12"
      },
      "source": [
        "data.loc[data['misogynous'] == 1, 'Text Transcription'].str.len().apply(np.log1p).hist(label='MISOGYNISTIC', alpha=.5)\n",
        "data.loc[data['misogynous'] == 0, 'Text Transcription'].str.len().apply(np.log1p).hist(label='OKAY', alpha=.5)\n",
        "plt.legend()"
      ],
      "execution_count": null,
      "outputs": [
        {
          "output_type": "execute_result",
          "data": {
            "text/plain": [
              "<matplotlib.legend.Legend at 0x7f89b0c5de50>"
            ]
          },
          "metadata": {},
          "execution_count": 24
        },
        {
          "output_type": "display_data",
          "data": {
            "image/png": "[encoded data removed]",
            "text/plain": [
              "<Figure size 432x288 with 1 Axes>"
            ]
          },
          "metadata": {}
        }
      ]
    },
    {
      "cell_type": "code",
      "metadata": {
        "id": "5ufN9IEcBiM1",
        "colab": {
          "base_uri": "https://localhost:8080/"
        },
        "outputId": "1f6aeac3-5b05-46a9-b370-1b2082459042"
      },
      "source": [
        "data.loc[data['misogynous'] == 1, 'Text Transcription'].value_counts()"
      ],
      "execution_count": null,
      "outputs": [
        {
          "output_type": "execute_result",
          "data": {
            "text/plain": [
              "IF YOU WATCH CINDERELLA BACKWARDS IT'S ABOUT A WOMAN WHO LEARNS HER PLACE                                                             2\n",
              "I'M NOT SEXIST. SEXISM IS WRONG AND BEING WRONG IS FOR WOMEN                                                                          2\n",
              "Wanna know the difference between an UFO and a woman driving? Turn your phone upside down...                                          2\n",
              "When you buy your side chick and your main chick the same perfume so you can cheat in peace                                           2\n",
              "From this point on, all your opinions are rejected! WOMEN Know Your Place.                                                            2\n",
              "                                                                                                                                     ..\n",
              "YOU WON'T BE LAUGHING AFTER YOU FINISH THAT DRINK imgflip.com                                                                         1\n",
              "International Mens' Day: *Exists* Feminists: Visible Frustration]                                                                     1\n",
              "WOMEN ARE GOOD FOR 70 THINGS. SANDWICH AND 69                                                                                         1\n",
              "THONG THURSDAYS SHOW US WHAT YOU GOT Thong Thursdays Show Us What You Got - Thong Thursdays | Meme  Generator                         1\n",
              "SORRY Thats NOT going to get the taste out of your mouth IT SAID she'd get bacon if she pushed the button. VERY DEMOTIVATIONAL.com    1\n",
              "Name: Text Transcription, Length: 4982, dtype: int64"
            ]
          },
          "metadata": {},
          "execution_count": 25
        }
      ]
    },
    {
      "cell_type": "code",
      "metadata": {
        "id": "Vua-6KWPCyM1",
        "colab": {
          "base_uri": "https://localhost:8080/"
        },
        "outputId": "ec8e3eed-7e55-4940-e229-4311c574e9ae"
      },
      "source": [
        "data.loc[data['misogynous'] == 0, 'Text Transcription'].value_counts()"
      ],
      "execution_count": null,
      "outputs": [
        {
          "output_type": "execute_result",
          "data": {
            "text/plain": [
              "Call the ambulance! But not for me!                                                                                                                                               4\n",
              "My girlfriend when I fart My girlfriend when she farts                                                                                                                            2\n",
              "Looks like this pigeon had a pretty intense phone call                                                                                                                            2\n",
              "When you tell your friends that you finally got a girlfriend but they start laughing saying that she's imaginary but then you laugh at them because they are imaginary as well    2\n",
              "PEOPLE WHO SAY CORONAVIRUS PEOPLE WHO SAY COVID-19 PEOPLE WHO CALL IT THE 'RONA                                                                                                   2\n",
              "                                                                                                                                                                                 ..\n",
              "Fapping Having Sex with GF Having Sex with a Prostitute Dumpster Diving Behind the Abortion Clinic                                                                                1\n",
              "My wife and her co-workers are in a Fitbit activity contest and I discovered she's cheating!                                                                                      1\n",
              "Your girlfriend says she wants to try fisting She tells you to bend over                                                                                                          1\n",
              "Me & my girlfriend having sex: Me How long do you need? Her - As long as you can give me!                                                                                         1\n",
              "HASN'T BEEN PLAYED IN 15 YEARS VAS STILL REMEMBERS WHERE YOU LEFT OFF zipmeme                                                                                                     1\n",
              "Name: Text Transcription, Length: 4973, dtype: int64"
            ]
          },
          "metadata": {},
          "execution_count": 26
        }
      ]
    },
    {
      "cell_type": "code",
      "metadata": {
        "id": "L8MMd6RaEGTK"
      },
      "source": [
        "STOP_WORDS = stopwords.words()\n",
        "def cleaning(text):\n",
        "    \"\"\"\n",
        "    Convert to lowercase.\n",
        "    Rremove URL links, special characters and punctuation.\n",
        "    Tokenize and remove stop words.\n",
        "    \"\"\"\n",
        "    text = text.lower()\n",
        "    text = re.sub('https?://\\S+|www\\.\\S+', '', text)\n",
        "    text = re.sub('<.*?>+', '', text)\n",
        "    text = re.sub('[%s]' % re.escape(string.punctuation), '', text)\n",
        "    text = re.sub('\\n', '', text)\n",
        "    text = re.sub('[’“”…]', '', text)\n",
        "    # removing the stop-words\n",
        "    text_tokens = word_tokenize(text)\n",
        "    tokens_without_sw = [\n",
        "        word for word in text_tokens if not word in STOP_WORDS]\n",
        "    filtered_sentence = (\" \").join(tokens_without_sw)\n",
        "    text = filtered_sentence\n",
        "\n",
        "    return text\n",
        "\n"
      ],
      "execution_count": null,
      "outputs": []
    },
    {
      "cell_type": "code",
      "metadata": {
        "id": "K_aZOxGOID0V",
        "colab": {
          "base_uri": "https://localhost:8080/"
        },
        "outputId": "28bc41c2-4b19-45ba-8c80-e4fc4cdcdb42"
      },
      "source": [
        "miso = data[data['misogynous'] == 1]['Text Transcription'].apply(cleaning)\n",
        "\n",
        "word_count = Counter(\" \".join(miso).split()).most_common(20)\n",
        "word_frequency_miso = pd.DataFrame(word_count, columns = ['Word', 'Frequency'])\n",
        "print(word_frequency_miso)"
      ],
      "execution_count": null,
      "outputs": [
        {
          "output_type": "stream",
          "name": "stdout",
          "text": [
            "             Word  Frequency\n",
            "0           women        872\n",
            "1            like        537\n",
            "2           woman        430\n",
            "3            dont        319\n",
            "4            girl        311\n",
            "5           girls        307\n",
            "6      imgflipcom        291\n",
            "7             get        263\n",
            "8    quickmemecom        233\n",
            "9         kitchen        226\n",
            "10       feminist        224\n",
            "11           make        202\n",
            "12           wife        181\n",
            "13          youre        176\n",
            "14      feminists        170\n",
            "15         female        170\n",
            "16  memecentercom        163\n",
            "17           know        157\n",
            "18       feminism        156\n",
            "19           meme        156\n"
          ]
        }
      ]
    },
    {
      "cell_type": "code",
      "metadata": {
        "id": "1ZlX7-8_HYwE",
        "colab": {
          "base_uri": "https://localhost:8080/"
        },
        "outputId": "97d30ff5-86d0-490b-b2c3-6a0bc02c45b7"
      },
      "source": [
        "Notmiso = data[data['misogynous'] == 0]['Text Transcription'].apply(cleaning)\n",
        "\n",
        "word_count = Counter(\" \".join(Notmiso).split()).most_common(20)\n",
        "word_frequency_notmiso = pd.DataFrame(word_count, columns = ['Word', 'Frequency'])\n",
        "print(word_frequency_notmiso)"
      ],
      "execution_count": null,
      "outputs": [
        {
          "output_type": "stream",
          "name": "stdout",
          "text": [
            "          Word  Frequency\n",
            "0   imgflipcom        362\n",
            "1   girlfriend        357\n",
            "2        house        337\n",
            "3         like        324\n",
            "4         wife        307\n",
            "5         dont        298\n",
            "6         call        294\n",
            "7          get        273\n",
            "8       people        242\n",
            "9        women        229\n",
            "10       woman        224\n",
            "11       youre        214\n",
            "12       clean        202\n",
            "13       cheat        192\n",
            "14     kitchen        187\n",
            "15      female        183\n",
            "16     cooking        176\n",
            "17        know        167\n",
            "18        time        156\n",
            "19         see        153\n"
          ]
        }
      ]
    },
    {
      "cell_type": "code",
      "metadata": {
        "id": "o6YX6FDvHrPj"
      },
      "source": [
        ""
      ],
      "execution_count": null,
      "outputs": []
    }
  ]
}